{
  "nbformat": 4,
  "nbformat_minor": 0,
  "metadata": {
    "colab": {
      "provenance": [],
      "authorship_tag": "ABX9TyNg3OT0pE4PKojdZEjRm51Q",
      "include_colab_link": true
    },
    "kernelspec": {
      "name": "python3",
      "display_name": "Python 3"
    },
    "language_info": {
      "name": "python"
    }
  },
  "cells": [
    {
      "cell_type": "markdown",
      "metadata": {
        "id": "view-in-github",
        "colab_type": "text"
      },
      "source": [
        "<a href=\"https://colab.research.google.com/github/amerikv220/Aprendiendo_nueva_app/blob/master/datafifa.ipynb\" target=\"_parent\"><img src=\"https://colab.research.google.com/assets/colab-badge.svg\" alt=\"Open In Colab\"/></a>"
      ]
    },
    {
      "cell_type": "code",
      "execution_count": null,
      "metadata": {
        "colab": {
          "base_uri": "https://localhost:8080/"
        },
        "id": "NLpM7DyIsO-Y",
        "outputId": "25b8cbb7-e2df-4772-ed36-d93b3afb1e58"
      },
      "outputs": [
        {
          "output_type": "stream",
          "name": "stdout",
          "text": [
            "Requirement already satisfied: lxml in /usr/local/lib/python3.10/dist-packages (4.9.4)\n",
            "Requirement already satisfied: pandas in /usr/local/lib/python3.10/dist-packages (1.5.3)\n",
            "Requirement already satisfied: python-dateutil>=2.8.1 in /usr/local/lib/python3.10/dist-packages (from pandas) (2.8.2)\n",
            "Requirement already satisfied: pytz>=2020.1 in /usr/local/lib/python3.10/dist-packages (from pandas) (2023.3.post1)\n",
            "Requirement already satisfied: numpy>=1.21.0 in /usr/local/lib/python3.10/dist-packages (from pandas) (1.23.5)\n",
            "Requirement already satisfied: six>=1.5 in /usr/local/lib/python3.10/dist-packages (from python-dateutil>=2.8.1->pandas) (1.16.0)\n"
          ]
        }
      ],
      "source": [
        "from bs4 import BeautifulSoup\n",
        "import requests\n",
        "!pip install lxml\n",
        "!pip install pandas\n",
        "import pandas as pd"
      ]
    },
    {
      "cell_type": "markdown",
      "source": [
        "# Sección nueva"
      ],
      "metadata": {
        "id": "1ycnx5QFT_kb"
      }
    },
    {
      "cell_type": "code",
      "source": [
        "years = [1930, 1934, 1938, 1950, 1954, 1958, 1962, 1966, 1970, 1974, 1978, 1982, 1986, 1990, 1994, 1998, 2002, 2006, 2010, 2014, 2018]"
      ],
      "metadata": {
        "id": "whDK2ElbtN9e"
      },
      "execution_count": null,
      "outputs": []
    },
    {
      "cell_type": "code",
      "source": [
        "def get_matches(year):\n",
        "    web = f'https://en.wikipedia.org/wiki/{year}_FIFA_World_Cup'\n",
        "    response = requests.get(web)\n",
        "    content = (response.text)\n",
        "    soup = BeautifulSoup(content, 'lxml')\n",
        "    matches = soup.find_all('div', class_='footballbox')\n",
        "    home = []\n",
        "    score = []\n",
        "    away = []\n",
        "    for match in matches:\n",
        "        home.append(match.find('th', class_ = 'fhome').get_text())\n",
        "        score.append(match.find('th', class_ = 'fscore').get_text())\n",
        "        away.append(match.find('th', class_ = 'faway').get_text())\n",
        "        dict_football = {'home': home, 'score': score,  'away': away}\n",
        "    df_football = pd.DataFrame(dict_football)\n",
        "    df_football['year'] = year\n",
        "    return df_football"
      ],
      "metadata": {
        "id": "0thK0R1ozToO"
      },
      "execution_count": null,
      "outputs": []
    },
    {
      "cell_type": "code",
      "source": [
        "#historical_data\n",
        "fifa = [get_matches(year) for year in years]\n",
        "df_fifa = pd.concat(fifa, ignore_index=True)\n",
        "df_fifa.to_csv('fifa_worldcup_historical_data.csv', index=False)"
      ],
      "metadata": {
        "id": "BbytomVw2ZzP"
      },
      "execution_count": null,
      "outputs": []
    },
    {
      "cell_type": "code",
      "source": [
        "# fixture\n",
        "df_fixture = get_matches('2022')\n",
        "df_fixture.to_csv('fifa_worldcup_fixture.csv', index=False)"
      ],
      "metadata": {
        "id": "CaKo_MptS_42"
      },
      "execution_count": null,
      "outputs": []
    }
  ]
}